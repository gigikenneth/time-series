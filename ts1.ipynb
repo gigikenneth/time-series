{
  "nbformat": 4,
  "nbformat_minor": 0,
  "metadata": {
    "colab": {
      "name": "ts1.ipynb",
      "provenance": [],
      "collapsed_sections": [],
      "authorship_tag": "ABX9TyMQEC9svM6HkCORnaadwIKj",
      "include_colab_link": true
    },
    "kernelspec": {
      "name": "python3",
      "display_name": "Python 3"
    },
    "language_info": {
      "name": "python"
    }
  },
  "cells": [
    {
      "cell_type": "markdown",
      "metadata": {
        "id": "view-in-github",
        "colab_type": "text"
      },
      "source": [
        "<a href=\"https://colab.research.google.com/github/gigikenneth/time-series/blob/main/ts1.ipynb\" target=\"_parent\"><img src=\"https://colab.research.google.com/assets/colab-badge.svg\" alt=\"Open In Colab\"/></a>"
      ]
    },
    {
      "cell_type": "code",
      "metadata": {
        "id": "weDzj-og1fDj"
      },
      "source": [
        "%matplotlib inline\n",
        "%load_ext autoreload\n",
        "%autoreload 2\n",
        "%config InlineBackend.figure_format = 'retina'\n",
        "\n",
        "import numpy as np\n",
        "import pandas as pd\n",
        "import matplotlib.pyplot as plt"
      ],
      "execution_count": 1,
      "outputs": []
    },
    {
      "cell_type": "code",
      "metadata": {
        "id": "skvPRIri2MW_"
      },
      "source": [
        "data_path = 'Cleaned_data.csv'\n",
        "\n",
        "air = pd.read_csv(data_path)"
      ],
      "execution_count": 2,
      "outputs": []
    },
    {
      "cell_type": "code",
      "metadata": {
        "colab": {
          "base_uri": "https://localhost:8080/",
          "height": 313
        },
        "id": "VDmypFLe2TK3",
        "outputId": "81ae3f6f-de3f-4d7a-9f6a-6007d1d58e42"
      },
      "source": [
        "air.head()"
      ],
      "execution_count": 3,
      "outputs": [
        {
          "output_type": "execute_result",
          "data": {
            "text/html": [
              "<div>\n",
              "<style scoped>\n",
              "    .dataframe tbody tr th:only-of-type {\n",
              "        vertical-align: middle;\n",
              "    }\n",
              "\n",
              "    .dataframe tbody tr th {\n",
              "        vertical-align: top;\n",
              "    }\n",
              "\n",
              "    .dataframe thead th {\n",
              "        text-align: right;\n",
              "    }\n",
              "</style>\n",
              "<table border=\"1\" class=\"dataframe\">\n",
              "  <thead>\n",
              "    <tr style=\"text-align: right;\">\n",
              "      <th></th>\n",
              "      <th>entry_id</th>\n",
              "      <th>Temperature_F</th>\n",
              "      <th>Humidity_%</th>\n",
              "      <th>PM2.5_ATM_ug/m3</th>\n",
              "      <th>date</th>\n",
              "      <th>time</th>\n",
              "      <th>day_of_month</th>\n",
              "      <th>month</th>\n",
              "      <th>year</th>\n",
              "      <th>days_of_week</th>\n",
              "      <th>day_in_week</th>\n",
              "      <th>weekdays_end</th>\n",
              "      <th>hour</th>\n",
              "      <th>AM_PM</th>\n",
              "      <th>Air_quality</th>\n",
              "    </tr>\n",
              "  </thead>\n",
              "  <tbody>\n",
              "    <tr>\n",
              "      <th>0</th>\n",
              "      <td>198</td>\n",
              "      <td>89</td>\n",
              "      <td>50</td>\n",
              "      <td>40.78</td>\n",
              "      <td>2021-07-26</td>\n",
              "      <td>16:45:59</td>\n",
              "      <td>26</td>\n",
              "      <td>July</td>\n",
              "      <td>2021</td>\n",
              "      <td>0</td>\n",
              "      <td>Monday</td>\n",
              "      <td>Weekdays</td>\n",
              "      <td>16</td>\n",
              "      <td>PM</td>\n",
              "      <td>Unhealthy</td>\n",
              "    </tr>\n",
              "    <tr>\n",
              "      <th>1</th>\n",
              "      <td>199</td>\n",
              "      <td>89</td>\n",
              "      <td>50</td>\n",
              "      <td>40.09</td>\n",
              "      <td>2021-07-26</td>\n",
              "      <td>16:48:03</td>\n",
              "      <td>26</td>\n",
              "      <td>July</td>\n",
              "      <td>2021</td>\n",
              "      <td>0</td>\n",
              "      <td>Monday</td>\n",
              "      <td>Weekdays</td>\n",
              "      <td>16</td>\n",
              "      <td>PM</td>\n",
              "      <td>Unhealthy</td>\n",
              "    </tr>\n",
              "    <tr>\n",
              "      <th>2</th>\n",
              "      <td>200</td>\n",
              "      <td>89</td>\n",
              "      <td>50</td>\n",
              "      <td>37.93</td>\n",
              "      <td>2021-07-26</td>\n",
              "      <td>16:49:59</td>\n",
              "      <td>26</td>\n",
              "      <td>July</td>\n",
              "      <td>2021</td>\n",
              "      <td>0</td>\n",
              "      <td>Monday</td>\n",
              "      <td>Weekdays</td>\n",
              "      <td>16</td>\n",
              "      <td>PM</td>\n",
              "      <td>Unhealthy</td>\n",
              "    </tr>\n",
              "    <tr>\n",
              "      <th>3</th>\n",
              "      <td>201</td>\n",
              "      <td>89</td>\n",
              "      <td>50</td>\n",
              "      <td>33.18</td>\n",
              "      <td>2021-07-26</td>\n",
              "      <td>16:54:03</td>\n",
              "      <td>26</td>\n",
              "      <td>July</td>\n",
              "      <td>2021</td>\n",
              "      <td>0</td>\n",
              "      <td>Monday</td>\n",
              "      <td>Weekdays</td>\n",
              "      <td>16</td>\n",
              "      <td>PM</td>\n",
              "      <td>Moderate</td>\n",
              "    </tr>\n",
              "    <tr>\n",
              "      <th>4</th>\n",
              "      <td>202</td>\n",
              "      <td>89</td>\n",
              "      <td>50</td>\n",
              "      <td>37.84</td>\n",
              "      <td>2021-07-26</td>\n",
              "      <td>16:55:59</td>\n",
              "      <td>26</td>\n",
              "      <td>July</td>\n",
              "      <td>2021</td>\n",
              "      <td>0</td>\n",
              "      <td>Monday</td>\n",
              "      <td>Weekdays</td>\n",
              "      <td>16</td>\n",
              "      <td>PM</td>\n",
              "      <td>Unhealthy</td>\n",
              "    </tr>\n",
              "  </tbody>\n",
              "</table>\n",
              "</div>"
            ],
            "text/plain": [
              "   entry_id  Temperature_F  Humidity_%  ...  hour AM_PM Air_quality\n",
              "0       198             89          50  ...    16    PM   Unhealthy\n",
              "1       199             89          50  ...    16    PM   Unhealthy\n",
              "2       200             89          50  ...    16    PM   Unhealthy\n",
              "3       201             89          50  ...    16    PM    Moderate\n",
              "4       202             89          50  ...    16    PM   Unhealthy\n",
              "\n",
              "[5 rows x 15 columns]"
            ]
          },
          "metadata": {},
          "execution_count": 3
        }
      ]
    },
    {
      "cell_type": "code",
      "metadata": {
        "colab": {
          "base_uri": "https://localhost:8080/",
          "height": 295
        },
        "id": "Y1Ge_r8N2lbB",
        "outputId": "b0b95f32-1328-47dd-8279-04d53f8a7e70"
      },
      "source": [
        "air[:5*10].plot(x='date', y='PM2.5_ATM_ug/m3')"
      ],
      "execution_count": 4,
      "outputs": [
        {
          "output_type": "execute_result",
          "data": {
            "text/plain": [
              "<matplotlib.axes._subplots.AxesSubplot at 0x7f4994bbcf90>"
            ]
          },
          "metadata": {},
          "execution_count": 4
        },
        {
          "output_type": "display_data",
          "data": {
            "image/png": "[encoded data removed]",
            "text/plain": [
              "<Figure size 432x288 with 1 Axes>"
            ]
          },
          "metadata": {
            "image/png": {
              "width": 378,
              "height": 261
            },
            "needs_background": "light"
          }
        }
      ]
    },
    {
      "cell_type": "code",
      "metadata": {
        "id": "kc_PBHLE4cRu",
        "colab": {
          "base_uri": "https://localhost:8080/",
          "height": 313
        },
        "outputId": "02d06c05-7e0a-4458-ffef-ebdffc1f65ae"
      },
      "source": [
        "air.tail()"
      ],
      "execution_count": 5,
      "outputs": [
        {
          "output_type": "execute_result",
          "data": {
            "text/html": [
              "<div>\n",
              "<style scoped>\n",
              "    .dataframe tbody tr th:only-of-type {\n",
              "        vertical-align: middle;\n",
              "    }\n",
              "\n",
              "    .dataframe tbody tr th {\n",
              "        vertical-align: top;\n",
              "    }\n",
              "\n",
              "    .dataframe thead th {\n",
              "        text-align: right;\n",
              "    }\n",
              "</style>\n",
              "<table border=\"1\" class=\"dataframe\">\n",
              "  <thead>\n",
              "    <tr style=\"text-align: right;\">\n",
              "      <th></th>\n",
              "      <th>entry_id</th>\n",
              "      <th>Temperature_F</th>\n",
              "      <th>Humidity_%</th>\n",
              "      <th>PM2.5_ATM_ug/m3</th>\n",
              "      <th>date</th>\n",
              "      <th>time</th>\n",
              "      <th>day_of_month</th>\n",
              "      <th>month</th>\n",
              "      <th>year</th>\n",
              "      <th>days_of_week</th>\n",
              "      <th>day_in_week</th>\n",
              "      <th>weekdays_end</th>\n",
              "      <th>hour</th>\n",
              "      <th>AM_PM</th>\n",
              "      <th>Air_quality</th>\n",
              "    </tr>\n",
              "  </thead>\n",
              "  <tbody>\n",
              "    <tr>\n",
              "      <th>56047</th>\n",
              "      <td>56245</td>\n",
              "      <td>87</td>\n",
              "      <td>61</td>\n",
              "      <td>29.17</td>\n",
              "      <td>2021-10-25</td>\n",
              "      <td>09:28:43</td>\n",
              "      <td>25</td>\n",
              "      <td>October</td>\n",
              "      <td>2021</td>\n",
              "      <td>0</td>\n",
              "      <td>Monday</td>\n",
              "      <td>Weekdays</td>\n",
              "      <td>9</td>\n",
              "      <td>AM</td>\n",
              "      <td>Moderate</td>\n",
              "    </tr>\n",
              "    <tr>\n",
              "      <th>56048</th>\n",
              "      <td>56246</td>\n",
              "      <td>87</td>\n",
              "      <td>61</td>\n",
              "      <td>29.57</td>\n",
              "      <td>2021-10-25</td>\n",
              "      <td>09:30:43</td>\n",
              "      <td>25</td>\n",
              "      <td>October</td>\n",
              "      <td>2021</td>\n",
              "      <td>0</td>\n",
              "      <td>Monday</td>\n",
              "      <td>Weekdays</td>\n",
              "      <td>9</td>\n",
              "      <td>AM</td>\n",
              "      <td>Moderate</td>\n",
              "    </tr>\n",
              "    <tr>\n",
              "      <th>56049</th>\n",
              "      <td>56247</td>\n",
              "      <td>87</td>\n",
              "      <td>61</td>\n",
              "      <td>28.75</td>\n",
              "      <td>2021-10-25</td>\n",
              "      <td>09:32:44</td>\n",
              "      <td>25</td>\n",
              "      <td>October</td>\n",
              "      <td>2021</td>\n",
              "      <td>0</td>\n",
              "      <td>Monday</td>\n",
              "      <td>Weekdays</td>\n",
              "      <td>9</td>\n",
              "      <td>AM</td>\n",
              "      <td>Moderate</td>\n",
              "    </tr>\n",
              "    <tr>\n",
              "      <th>56050</th>\n",
              "      <td>56248</td>\n",
              "      <td>87</td>\n",
              "      <td>61</td>\n",
              "      <td>29.97</td>\n",
              "      <td>2021-10-25</td>\n",
              "      <td>09:34:44</td>\n",
              "      <td>25</td>\n",
              "      <td>October</td>\n",
              "      <td>2021</td>\n",
              "      <td>0</td>\n",
              "      <td>Monday</td>\n",
              "      <td>Weekdays</td>\n",
              "      <td>9</td>\n",
              "      <td>AM</td>\n",
              "      <td>Moderate</td>\n",
              "    </tr>\n",
              "    <tr>\n",
              "      <th>56051</th>\n",
              "      <td>56249</td>\n",
              "      <td>87</td>\n",
              "      <td>60</td>\n",
              "      <td>30.25</td>\n",
              "      <td>2021-10-25</td>\n",
              "      <td>09:36:44</td>\n",
              "      <td>25</td>\n",
              "      <td>October</td>\n",
              "      <td>2021</td>\n",
              "      <td>0</td>\n",
              "      <td>Monday</td>\n",
              "      <td>Weekdays</td>\n",
              "      <td>9</td>\n",
              "      <td>AM</td>\n",
              "      <td>Moderate</td>\n",
              "    </tr>\n",
              "  </tbody>\n",
              "</table>\n",
              "</div>"
            ],
            "text/plain": [
              "       entry_id  Temperature_F  Humidity_%  ...  hour AM_PM Air_quality\n",
              "56047     56245             87          61  ...     9    AM    Moderate\n",
              "56048     56246             87          61  ...     9    AM    Moderate\n",
              "56049     56247             87          61  ...     9    AM    Moderate\n",
              "56050     56248             87          61  ...     9    AM    Moderate\n",
              "56051     56249             87          60  ...     9    AM    Moderate\n",
              "\n",
              "[5 rows x 15 columns]"
            ]
          },
          "metadata": {},
          "execution_count": 5
        }
      ]
    },
    {
      "cell_type": "code",
      "metadata": {
        "colab": {
          "base_uri": "https://localhost:8080/",
          "height": 300
        },
        "id": "tXGmtbad5SK6",
        "outputId": "5c2aa093-e33f-451c-f3b3-18a10c4df473"
      },
      "source": [
        "air.describe()"
      ],
      "execution_count": 6,
      "outputs": [
        {
          "output_type": "execute_result",
          "data": {
            "text/html": [
              "<div>\n",
              "<style scoped>\n",
              "    .dataframe tbody tr th:only-of-type {\n",
              "        vertical-align: middle;\n",
              "    }\n",
              "\n",
              "    .dataframe tbody tr th {\n",
              "        vertical-align: top;\n",
              "    }\n",
              "\n",
              "    .dataframe thead th {\n",
              "        text-align: right;\n",
              "    }\n",
              "</style>\n",
              "<table border=\"1\" class=\"dataframe\">\n",
              "  <thead>\n",
              "    <tr style=\"text-align: right;\">\n",
              "      <th></th>\n",
              "      <th>entry_id</th>\n",
              "      <th>Temperature_F</th>\n",
              "      <th>Humidity_%</th>\n",
              "      <th>PM2.5_ATM_ug/m3</th>\n",
              "      <th>day_of_month</th>\n",
              "      <th>year</th>\n",
              "      <th>days_of_week</th>\n",
              "      <th>hour</th>\n",
              "    </tr>\n",
              "  </thead>\n",
              "  <tbody>\n",
              "    <tr>\n",
              "      <th>count</th>\n",
              "      <td>56052.000000</td>\n",
              "      <td>56052.000000</td>\n",
              "      <td>56052.000000</td>\n",
              "      <td>56052.000000</td>\n",
              "      <td>56052.000000</td>\n",
              "      <td>56052.0</td>\n",
              "      <td>56052.000000</td>\n",
              "      <td>56052.000000</td>\n",
              "    </tr>\n",
              "    <tr>\n",
              "      <th>mean</th>\n",
              "      <td>28223.500000</td>\n",
              "      <td>84.821469</td>\n",
              "      <td>65.117766</td>\n",
              "      <td>54.391926</td>\n",
              "      <td>15.534450</td>\n",
              "      <td>2021.0</td>\n",
              "      <td>3.019607</td>\n",
              "      <td>11.685988</td>\n",
              "    </tr>\n",
              "    <tr>\n",
              "      <th>std</th>\n",
              "      <td>16180.962981</td>\n",
              "      <td>4.319505</td>\n",
              "      <td>8.550730</td>\n",
              "      <td>42.205997</td>\n",
              "      <td>9.000277</td>\n",
              "      <td>0.0</td>\n",
              "      <td>2.027295</td>\n",
              "      <td>6.842374</td>\n",
              "    </tr>\n",
              "    <tr>\n",
              "      <th>min</th>\n",
              "      <td>198.000000</td>\n",
              "      <td>70.000000</td>\n",
              "      <td>29.000000</td>\n",
              "      <td>0.780000</td>\n",
              "      <td>1.000000</td>\n",
              "      <td>2021.0</td>\n",
              "      <td>0.000000</td>\n",
              "      <td>0.000000</td>\n",
              "    </tr>\n",
              "    <tr>\n",
              "      <th>25%</th>\n",
              "      <td>14210.750000</td>\n",
              "      <td>82.000000</td>\n",
              "      <td>61.000000</td>\n",
              "      <td>30.170000</td>\n",
              "      <td>8.000000</td>\n",
              "      <td>2021.0</td>\n",
              "      <td>1.000000</td>\n",
              "      <td>6.000000</td>\n",
              "    </tr>\n",
              "    <tr>\n",
              "      <th>50%</th>\n",
              "      <td>28223.500000</td>\n",
              "      <td>84.000000</td>\n",
              "      <td>68.000000</td>\n",
              "      <td>41.450000</td>\n",
              "      <td>15.000000</td>\n",
              "      <td>2021.0</td>\n",
              "      <td>3.000000</td>\n",
              "      <td>12.000000</td>\n",
              "    </tr>\n",
              "    <tr>\n",
              "      <th>75%</th>\n",
              "      <td>42236.250000</td>\n",
              "      <td>87.000000</td>\n",
              "      <td>71.000000</td>\n",
              "      <td>61.190000</td>\n",
              "      <td>23.000000</td>\n",
              "      <td>2021.0</td>\n",
              "      <td>5.000000</td>\n",
              "      <td>18.000000</td>\n",
              "    </tr>\n",
              "    <tr>\n",
              "      <th>max</th>\n",
              "      <td>56249.000000</td>\n",
              "      <td>108.000000</td>\n",
              "      <td>89.000000</td>\n",
              "      <td>568.080000</td>\n",
              "      <td>31.000000</td>\n",
              "      <td>2021.0</td>\n",
              "      <td>6.000000</td>\n",
              "      <td>23.000000</td>\n",
              "    </tr>\n",
              "  </tbody>\n",
              "</table>\n",
              "</div>"
            ],
            "text/plain": [
              "           entry_id  Temperature_F  ...  days_of_week          hour\n",
              "count  56052.000000   56052.000000  ...  56052.000000  56052.000000\n",
              "mean   28223.500000      84.821469  ...      3.019607     11.685988\n",
              "std    16180.962981       4.319505  ...      2.027295      6.842374\n",
              "min      198.000000      70.000000  ...      0.000000      0.000000\n",
              "25%    14210.750000      82.000000  ...      1.000000      6.000000\n",
              "50%    28223.500000      84.000000  ...      3.000000     12.000000\n",
              "75%    42236.250000      87.000000  ...      5.000000     18.000000\n",
              "max    56249.000000     108.000000  ...      6.000000     23.000000\n",
              "\n",
              "[8 rows x 8 columns]"
            ]
          },
          "metadata": {},
          "execution_count": 6
        }
      ]
    },
    {
      "cell_type": "code",
      "metadata": {
        "colab": {
          "base_uri": "https://localhost:8080/",
          "height": 282
        },
        "id": "HLLrzI6C5dxZ",
        "outputId": "dab89250-559b-4d50-e597-f84b037d47e8"
      },
      "source": [
        "air.plot()"
      ],
      "execution_count": 7,
      "outputs": [
        {
          "output_type": "execute_result",
          "data": {
            "text/plain": [
              "<matplotlib.axes._subplots.AxesSubplot at 0x7f499461ce50>"
            ]
          },
          "metadata": {},
          "execution_count": 7
        },
        {
          "output_type": "display_data",
          "data": {
            "image/png": "[encoded data removed]",
            "text/plain": [
              "<Figure size 432x288 with 1 Axes>"
            ]
          },
          "metadata": {
            "image/png": {
              "width": 388,
              "height": 248
            },
            "needs_background": "light"
          }
        }
      ]
    },
    {
      "cell_type": "code",
      "metadata": {
        "id": "_E0BxYgi7JHv"
      },
      "source": [
        "df = air"
      ],
      "execution_count": 8,
      "outputs": []
    },
    {
      "cell_type": "code",
      "metadata": {
        "id": "-DzFBuq79WvX"
      },
      "source": [
        "df.drop(df.columns[[0, 1, 2, 5, 6, 7, 8, 9, 10, 11, 12, 13, 14]], axis = 1, inplace = True)"
      ],
      "execution_count": 12,
      "outputs": []
    },
    {
      "cell_type": "code",
      "metadata": {
        "colab": {
          "base_uri": "https://localhost:8080/",
          "height": 206
        },
        "id": "Z0U6RPeR9UMj",
        "outputId": "9098fd7c-3063-4fb5-e715-5dc12bda3686"
      },
      "source": [
        "df.head()"
      ],
      "execution_count": 14,
      "outputs": [
        {
          "output_type": "execute_result",
          "data": {
            "text/html": [
              "<div>\n",
              "<style scoped>\n",
              "    .dataframe tbody tr th:only-of-type {\n",
              "        vertical-align: middle;\n",
              "    }\n",
              "\n",
              "    .dataframe tbody tr th {\n",
              "        vertical-align: top;\n",
              "    }\n",
              "\n",
              "    .dataframe thead th {\n",
              "        text-align: right;\n",
              "    }\n",
              "</style>\n",
              "<table border=\"1\" class=\"dataframe\">\n",
              "  <thead>\n",
              "    <tr style=\"text-align: right;\">\n",
              "      <th></th>\n",
              "      <th>PM2.5_ATM_ug/m3</th>\n",
              "      <th>date</th>\n",
              "    </tr>\n",
              "  </thead>\n",
              "  <tbody>\n",
              "    <tr>\n",
              "      <th>0</th>\n",
              "      <td>40.78</td>\n",
              "      <td>2021-07-26</td>\n",
              "    </tr>\n",
              "    <tr>\n",
              "      <th>1</th>\n",
              "      <td>40.09</td>\n",
              "      <td>2021-07-26</td>\n",
              "    </tr>\n",
              "    <tr>\n",
              "      <th>2</th>\n",
              "      <td>37.93</td>\n",
              "      <td>2021-07-26</td>\n",
              "    </tr>\n",
              "    <tr>\n",
              "      <th>3</th>\n",
              "      <td>33.18</td>\n",
              "      <td>2021-07-26</td>\n",
              "    </tr>\n",
              "    <tr>\n",
              "      <th>4</th>\n",
              "      <td>37.84</td>\n",
              "      <td>2021-07-26</td>\n",
              "    </tr>\n",
              "  </tbody>\n",
              "</table>\n",
              "</div>"
            ],
            "text/plain": [
              "   PM2.5_ATM_ug/m3        date\n",
              "0            40.78  2021-07-26\n",
              "1            40.09  2021-07-26\n",
              "2            37.93  2021-07-26\n",
              "3            33.18  2021-07-26\n",
              "4            37.84  2021-07-26"
            ]
          },
          "metadata": {},
          "execution_count": 14
        }
      ]
    },
    {
      "cell_type": "code",
      "metadata": {
        "colab": {
          "base_uri": "https://localhost:8080/",
          "height": 300
        },
        "id": "VpMmRTmt-Glm",
        "outputId": "c6416e1c-bd9d-4eec-9fb7-fc9744d59c51"
      },
      "source": [
        "df.describe()"
      ],
      "execution_count": 15,
      "outputs": [
        {
          "output_type": "execute_result",
          "data": {
            "text/html": [
              "<div>\n",
              "<style scoped>\n",
              "    .dataframe tbody tr th:only-of-type {\n",
              "        vertical-align: middle;\n",
              "    }\n",
              "\n",
              "    .dataframe tbody tr th {\n",
              "        vertical-align: top;\n",
              "    }\n",
              "\n",
              "    .dataframe thead th {\n",
              "        text-align: right;\n",
              "    }\n",
              "</style>\n",
              "<table border=\"1\" class=\"dataframe\">\n",
              "  <thead>\n",
              "    <tr style=\"text-align: right;\">\n",
              "      <th></th>\n",
              "      <th>PM2.5_ATM_ug/m3</th>\n",
              "    </tr>\n",
              "  </thead>\n",
              "  <tbody>\n",
              "    <tr>\n",
              "      <th>count</th>\n",
              "      <td>56052.000000</td>\n",
              "    </tr>\n",
              "    <tr>\n",
              "      <th>mean</th>\n",
              "      <td>54.391926</td>\n",
              "    </tr>\n",
              "    <tr>\n",
              "      <th>std</th>\n",
              "      <td>42.205997</td>\n",
              "    </tr>\n",
              "    <tr>\n",
              "      <th>min</th>\n",
              "      <td>0.780000</td>\n",
              "    </tr>\n",
              "    <tr>\n",
              "      <th>25%</th>\n",
              "      <td>30.170000</td>\n",
              "    </tr>\n",
              "    <tr>\n",
              "      <th>50%</th>\n",
              "      <td>41.450000</td>\n",
              "    </tr>\n",
              "    <tr>\n",
              "      <th>75%</th>\n",
              "      <td>61.190000</td>\n",
              "    </tr>\n",
              "    <tr>\n",
              "      <th>max</th>\n",
              "      <td>568.080000</td>\n",
              "    </tr>\n",
              "  </tbody>\n",
              "</table>\n",
              "</div>"
            ],
            "text/plain": [
              "       PM2.5_ATM_ug/m3\n",
              "count     56052.000000\n",
              "mean         54.391926\n",
              "std          42.205997\n",
              "min           0.780000\n",
              "25%          30.170000\n",
              "50%          41.450000\n",
              "75%          61.190000\n",
              "max         568.080000"
            ]
          },
          "metadata": {},
          "execution_count": 15
        }
      ]
    },
    {
      "cell_type": "code",
      "metadata": {
        "id": "PeI5FaWC_fXV"
      },
      "source": [
        "#rename column \n",
        "df1 = df.rename(columns={'PM2.5_ATM_ug/m3': 'PM'})"
      ],
      "execution_count": 26,
      "outputs": []
    },
    {
      "cell_type": "code",
      "metadata": {
        "colab": {
          "base_uri": "https://localhost:8080/",
          "height": 206
        },
        "id": "q0oFj-gE_1S2",
        "outputId": "ee04d9ea-ceb9-45b3-856e-3a83712f10a8"
      },
      "source": [
        "df1.head()"
      ],
      "execution_count": 29,
      "outputs": [
        {
          "output_type": "execute_result",
          "data": {
            "text/html": [
              "<div>\n",
              "<style scoped>\n",
              "    .dataframe tbody tr th:only-of-type {\n",
              "        vertical-align: middle;\n",
              "    }\n",
              "\n",
              "    .dataframe tbody tr th {\n",
              "        vertical-align: top;\n",
              "    }\n",
              "\n",
              "    .dataframe thead th {\n",
              "        text-align: right;\n",
              "    }\n",
              "</style>\n",
              "<table border=\"1\" class=\"dataframe\">\n",
              "  <thead>\n",
              "    <tr style=\"text-align: right;\">\n",
              "      <th></th>\n",
              "      <th>PM</th>\n",
              "      <th>date</th>\n",
              "    </tr>\n",
              "  </thead>\n",
              "  <tbody>\n",
              "    <tr>\n",
              "      <th>0</th>\n",
              "      <td>40.78</td>\n",
              "      <td>2021-07-26</td>\n",
              "    </tr>\n",
              "    <tr>\n",
              "      <th>1</th>\n",
              "      <td>40.09</td>\n",
              "      <td>2021-07-26</td>\n",
              "    </tr>\n",
              "    <tr>\n",
              "      <th>2</th>\n",
              "      <td>37.93</td>\n",
              "      <td>2021-07-26</td>\n",
              "    </tr>\n",
              "    <tr>\n",
              "      <th>3</th>\n",
              "      <td>33.18</td>\n",
              "      <td>2021-07-26</td>\n",
              "    </tr>\n",
              "    <tr>\n",
              "      <th>4</th>\n",
              "      <td>37.84</td>\n",
              "      <td>2021-07-26</td>\n",
              "    </tr>\n",
              "  </tbody>\n",
              "</table>\n",
              "</div>"
            ],
            "text/plain": [
              "      PM        date\n",
              "0  40.78  2021-07-26\n",
              "1  40.09  2021-07-26\n",
              "2  37.93  2021-07-26\n",
              "3  33.18  2021-07-26\n",
              "4  37.84  2021-07-26"
            ]
          },
          "metadata": {},
          "execution_count": 29
        }
      ]
    },
    {
      "cell_type": "code",
      "metadata": {
        "colab": {
          "base_uri": "https://localhost:8080/",
          "height": 282
        },
        "id": "lKQLGKiG-Qd-",
        "outputId": "79136fb7-5018-4cf4-f164-6b05a445f4f4"
      },
      "source": [
        "#visualization\n",
        "df1.plot()"
      ],
      "execution_count": 32,
      "outputs": [
        {
          "output_type": "execute_result",
          "data": {
            "text/plain": [
              "<matplotlib.axes._subplots.AxesSubplot at 0x7f497ca23d50>"
            ]
          },
          "metadata": {},
          "execution_count": 32
        },
        {
          "output_type": "display_data",
          "data": {
            "image/png": "[encoded data removed]",
            "text/plain": [
              "<Figure size 432x288 with 1 Axes>"
            ]
          },
          "metadata": {
            "image/png": {
              "width": 375,
              "height": 248
            },
            "needs_background": "light"
          }
        }
      ]
    },
    {
      "cell_type": "code",
      "metadata": {
        "id": "kqB2BtYS-ZwO"
      },
      "source": [
        "### Testing For Stationarity\n",
        "\n",
        "from statsmodels.tsa.stattools import adfuller"
      ],
      "execution_count": 33,
      "outputs": []
    },
    {
      "cell_type": "code",
      "metadata": {
        "id": "gTc-XuO9-cdG"
      },
      "source": [
        "test_result=adfuller(df1['PM'])"
      ],
      "execution_count": 34,
      "outputs": []
    },
    {
      "cell_type": "code",
      "metadata": {
        "id": "_1R5GBbd-oBo"
      },
      "source": [
        "#Ho: It is non stationary\n",
        "#H1: It is stationary\n",
        "\n",
        "def adfuller_test(PM):\n",
        "    result=adfuller(PM)\n",
        "    labels = ['ADF Test Statistic','p-value','#Lags Used','Number of Observations Used']\n",
        "    for value,label in zip(result,labels):\n",
        "        print(label+' : '+str(value) )\n",
        "    if result[1] <= 0.05:\n",
        "        print(\"strong evidence against the null hypothesis(Ho), reject the null hypothesis. Data has no unit root and is stationary\")\n",
        "    else:\n",
        "        print(\"weak evidence against null hypothesis, time series has a unit root, indicating it is non-stationary \")\n",
        "    "
      ],
      "execution_count": 35,
      "outputs": []
    },
    {
      "cell_type": "code",
      "metadata": {
        "colab": {
          "base_uri": "https://localhost:8080/"
        },
        "id": "LMbGtaIdAb72",
        "outputId": "8703474e-ca51-4590-f5d6-35e4f5b59d6f"
      },
      "source": [
        "adfuller_test(df1['PM'])"
      ],
      "execution_count": 36,
      "outputs": [
        {
          "output_type": "stream",
          "name": "stdout",
          "text": [
            "ADF Test Statistic : -15.795135077417605\n",
            "p-value : 1.0904996078551422e-28\n",
            "#Lags Used : 59\n",
            "Number of Observations Used : 55992\n",
            "strong evidence against the null hypothesis(Ho), reject the null hypothesis. Data has no unit root and is stationary\n"
          ]
        }
      ]
    }
  ]
}